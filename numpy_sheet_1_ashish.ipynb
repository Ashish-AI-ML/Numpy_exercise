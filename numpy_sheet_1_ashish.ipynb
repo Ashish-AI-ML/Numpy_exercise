{
  "cells": [
    {
      "cell_type": "markdown",
      "metadata": {
        "id": "O6qb81h2NYHb"
      },
      "source": [
        "<h2 style = \"color : Brown\"> Case Study - Cricket Tournament </h2>\n",
        "\n",
        "A panel wants to select players for an upcoming league match based on their fitness. Players from all significant cricket clubs have participated in a practice match, and their data is collected. Let us now explore NumPy features using the player's data.</font>\n",
        "\n",
        "<h4 style = \"color : Sky blue\"> Example - 1</h4>  \n",
        "\n",
        "#### Heights of the players is stored as a regular Python list: height_in. The height is expressed in inches. Can you make a numpy array out of it ?"
      ]
    },
    {
      "cell_type": "code",
      "execution_count": 1,
      "metadata": {
        "id": "syM7L-HrNYHe"
      },
      "outputs": [],
      "source": [
        "# Define list\n",
        "heights = [74, 74, 72, 72, 73, 69, 69, 71, 76, 71, 73, 73, 74, 74, 69, 70, 73, 75, 78, 79, 76, 74, 76, 72, 71, 75, 77, 74, 73, 74, 78, 73, 75, 73, 75, 75, 74, 69, 71, 74, 73, 73, 76, 74, 74, 70, 72, 77, 74, 70, 73, 75, 76, 76, 78, 74, 74, 76, 77, 81, 78, 75, 77, 75, 76, 74, 72, 72, 75, 73, 73, 73, 70, 70, 70, 76, 68, 71, 72, 75, 75, 75, 75, 68, 74, 78, 71, 73, 76, 74, 74, 79, 75, 73, 76, 74, 74, 73, 72, 74, 73, 74, 72, 73, 69, 72, 73, 75, 75, 73, 72, 72, 76, 74, 72, 77, 74, 77, 75, 76, 80, 74, 74, 75, 78, 73, 73, 74, 75, 76, 71, 73, 74, 76, 76, 74, 73, 74, 70, 72, 73, 73, 73, 73, 71, 74, 74, 72, 74, 71, 74, 73, 75, 75, 79, 73, 75, 76, 74, 76, 78, 74, 76, 72, 74, 76, 74, 75, 78, 75, 72, 74, 72, 74, 70, 71, 70, 75, 71, 71, 73, 72, 71, 73, 72, 75, 74, 74, 75, 73, 77, 73, 76, 75, 74, 76, 75, 73, 71, 76, 75, 72, 71, 77, 73, 74, 71, 72, 74, 75, 73, 72, 75, 75, 74, 72, 74, 71, 70, 74, 77, 77, 75, 75, 78, 75, 76, 73, 75, 75, 79, 77, 76, 71, 75, 74, 69, 71, 76, 72, 72, 70, 72, 73, 71, 72, 71, 73, 72, 73, 74, 74, 72, 75, 74, 74, 77, 75, 73, 72, 71, 74, 77, 75, 75, 75, 78, 78, 74, 76, 78, 76, 70, 72, 80, 74, 74, 71, 70, 72, 71, 74, 71, 72, 71, 74, 69, 76, 75, 75, 76, 73, 76, 73, 77, 73, 72, 72, 77, 77, 71, 74, 74, 73, 78, 75, 73, 70, 74, 72, 73, 73, 75, 75, 74, 76, 73, 74, 75, 75, 72, 73, 73, 72, 74, 78, 76, 73, 74, 75, 70, 75, 71, 72, 78, 75, 73, 73, 71, 75, 77, 72, 69, 73, 74, 72, 70, 75, 70, 72, 72, 74, 73, 74, 76, 75, 80, 72, 75, 73, 74, 74, 73, 75, 75, 71, 73, 75, 74, 74, 72, 74, 74, 74, 73, 76, 75, 72, 73, 73, 73, 72, 72, 72, 72, 71, 75, 75, 74, 73, 75, 79, 74, 76, 73, 74, 74, 72, 74, 74, 75, 78, 74, 74, 74, 77, 70, 73, 74, 73, 71, 75, 71, 72, 77, 74, 70, 77, 73, 72, 76, 71, 76, 78, 75, 73, 78, 74, 79, 75, 76, 72, 75, 75, 70, 72, 70, 74, 71, 76, 73, 76, 71, 69, 72, 72, 69, 73, 69, 73, 74, 74, 72, 71, 72, 72, 76, 76, 76, 74, 76, 75, 71, 72, 71, 73, 75, 76, 75, 71, 75, 74, 72, 73, 73, 73, 73, 76, 72, 76, 73, 73, 73, 75, 75, 77, 73, 72, 75, 70, 74, 72, 80, 71, 71, 74, 74, 73, 75, 76, 73, 77, 72, 73, 77, 76, 71, 75, 73, 74, 77, 71, 72, 73, 69, 73, 70, 74, 76, 73, 73, 75, 73, 79, 74, 73, 74, 77, 75, 74, 73, 77, 73, 77, 74, 74, 73, 77, 74, 77, 75, 77, 75, 71, 74, 70, 79, 72, 72, 70, 74, 74, 72, 73, 72, 74, 74, 76, 82, 74, 74, 70, 73, 73, 74, 77, 72, 76, 73, 73, 72, 74, 74, 71, 72, 75, 74, 74, 77, 70, 71, 73, 76, 71, 75, 74, 72, 76, 79, 76, 73, 76, 78, 75, 76, 72, 72, 73, 73, 75, 71, 76, 70, 75, 74, 75, 73, 71, 71, 72, 73, 73, 72, 69, 73, 78, 71, 73, 75, 76, 70, 74, 77, 75, 79, 72, 77, 73, 75, 75, 75, 73, 73, 76, 77, 75, 70, 71, 71, 75, 74, 69, 70, 75, 72, 75, 73, 72, 72, 72, 76, 75, 74, 69, 73, 72, 72, 75, 77, 76, 80, 77, 76, 79, 71, 75, 73, 76, 77, 73, 76, 70, 75, 73, 75, 70, 69, 71, 72, 72, 73, 70, 70, 73, 76, 75, 72, 73, 79, 71, 72, 74, 74, 74, 72, 76, 76, 72, 72, 71, 72, 72, 70, 77, 74, 72, 76, 71, 76, 71, 73, 70, 73, 73, 72, 71, 71, 71, 72, 72, 74, 74, 74, 71, 72, 75, 72, 71, 72, 72, 72, 72, 74, 74, 77, 75, 73, 75, 73, 76, 72, 77, 75, 72, 71, 71, 75, 72, 73, 73, 71, 70, 75, 71, 76, 73, 68, 71, 72, 74, 77, 72, 76, 78, 81, 72, 73, 76, 72, 72, 74, 76, 73, 76, 75, 70, 71, 74, 72, 73, 76, 76, 73, 71, 68, 71, 71, 74, 77, 69, 72, 76, 75, 76, 75, 76, 72, 74, 76, 74, 72, 75, 78, 77, 70, 72, 79, 74, 71, 68, 77, 75, 71, 72, 70, 72, 72, 73, 72, 74, 72, 72, 75, 72, 73, 74, 72, 78, 75, 72, 74, 75, 75, 76, 74, 74, 73, 74, 71, 74, 75, 76, 74, 76, 76, 73, 75, 75, 74, 68, 72, 75, 71, 70, 72, 73, 72, 75, 74, 70, 76, 71, 82, 72, 73, 74, 71, 75, 77, 72, 74, 72, 73, 78, 77, 73, 73, 73, 73, 73, 76, 75, 70, 73, 72, 73, 75, 74, 73, 73, 76, 73, 75, 70, 77, 72, 77, 74, 75, 75, 75, 75, 72, 74, 71, 76, 71, 75, 76, 83, 75, 74, 76, 72, 72, 75, 75, 72, 77, 73, 72, 70, 74, 72, 74, 72, 71, 70, 71, 76, 74, 76, 74, 74, 74, 75, 75, 71, 71, 74, 77, 71, 74, 75, 77, 76, 74, 76, 72, 71, 72, 75, 73, 68, 72, 69, 73, 73, 75, 70, 70, 74, 75, 74, 74, 73, 74, 75, 77, 73, 74, 76, 74, 75, 73, 76, 78, 75, 73, 77, 74, 72, 74, 72, 71, 73, 75, 73, 67, 67, 76, 74, 73, 70, 75, 70, 72, 77, 79, 78, 74, 75, 75, 78, 76, 75, 69, 75, 72, 75, 73, 74, 75, 75, 73]"
      ]
    },
    {
      "cell_type": "code",
      "execution_count": 2,
      "metadata": {
        "id": "kuS3VSD-NYHr"
      },
      "outputs": [],
      "source": [
        "import numpy as np\n",
        "\n",
        "heights_in = np.array(heights)"
      ]
    },
    {
      "cell_type": "code",
      "execution_count": 3,
      "metadata": {
        "colab": {
          "base_uri": "https://localhost:8080/"
        },
        "id": "K2l7qL67NYH2",
        "outputId": "c77f78bd-368b-4c79-9f57-d3c0f9dd598a"
      },
      "outputs": [
        {
          "output_type": "execute_result",
          "data": {
            "text/plain": [
              "array([74, 74, 72, ..., 75, 75, 73])"
            ]
          },
          "metadata": {},
          "execution_count": 3
        }
      ],
      "source": [
        "heights_in"
      ]
    },
    {
      "cell_type": "code",
      "execution_count": 4,
      "metadata": {
        "colab": {
          "base_uri": "https://localhost:8080/"
        },
        "id": "-__JqvMaNYIC",
        "outputId": "be1f6a6b-3a59-4db7-dc99-c74bfc1ca0db"
      },
      "outputs": [
        {
          "output_type": "execute_result",
          "data": {
            "text/plain": [
              "numpy.ndarray"
            ]
          },
          "metadata": {},
          "execution_count": 4
        }
      ],
      "source": [
        "type(heights_in)"
      ]
    },
    {
      "cell_type": "markdown",
      "metadata": {
        "id": "1ANNW-OJNYIM"
      },
      "source": [
        "<h4 style = \"color : Sky blue\"> Example - 2</h4>\n",
        "\n",
        "#### Count the number of pariticipants"
      ]
    },
    {
      "cell_type": "code",
      "execution_count": 5,
      "metadata": {
        "colab": {
          "base_uri": "https://localhost:8080/"
        },
        "id": "BPtkkx_kNYIO",
        "outputId": "9cae97c0-9fd4-4963-f396-07da9756a1cd"
      },
      "outputs": [
        {
          "output_type": "execute_result",
          "data": {
            "text/plain": [
              "1015"
            ]
          },
          "metadata": {},
          "execution_count": 5
        }
      ],
      "source": [
        "#way1\n",
        "heights_in.size"
      ]
    },
    {
      "cell_type": "code",
      "execution_count": 6,
      "metadata": {
        "colab": {
          "base_uri": "https://localhost:8080/"
        },
        "id": "utC2FQZnNYIb",
        "outputId": "a371cfe8-d166-4680-ea82-4f520e69dcdc"
      },
      "outputs": [
        {
          "output_type": "execute_result",
          "data": {
            "text/plain": [
              "1015"
            ]
          },
          "metadata": {},
          "execution_count": 6
        }
      ],
      "source": [
        "#way 2\n",
        "len(heights_in)"
      ]
    },
    {
      "cell_type": "code",
      "execution_count": 7,
      "metadata": {
        "colab": {
          "base_uri": "https://localhost:8080/"
        },
        "id": "CHlC4G1_NYIk",
        "outputId": "34ca49f8-3fd8-4461-94ff-26b0096a591b"
      },
      "outputs": [
        {
          "output_type": "execute_result",
          "data": {
            "text/plain": [
              "(1015,)"
            ]
          },
          "metadata": {},
          "execution_count": 7
        }
      ],
      "source": [
        "heights_in.shape"
      ]
    },
    {
      "cell_type": "markdown",
      "metadata": {
        "id": "H_ykFKOrNYIv"
      },
      "source": [
        "<h4 style = \"color : Sky blue\"> Example - 3</h4>\n",
        "\n",
        "####  Convert the heights from inches to meters"
      ]
    },
    {
      "cell_type": "code",
      "execution_count": 8,
      "metadata": {
        "id": "D2vqnE1hZbMt"
      },
      "outputs": [],
      "source": [
        "heights_in = heights_in * 0.0254"
      ]
    },
    {
      "cell_type": "code",
      "execution_count": 9,
      "metadata": {
        "colab": {
          "base_uri": "https://localhost:8080/"
        },
        "id": "tFh-kO3jNYIx",
        "outputId": "0dda847b-bc3d-4dde-df7d-3739f14bbdd4"
      },
      "outputs": [
        {
          "output_type": "execute_result",
          "data": {
            "text/plain": [
              "array([1.8796, 1.8796, 1.8288, ..., 1.905 , 1.905 , 1.8542])"
            ]
          },
          "metadata": {},
          "execution_count": 9
        }
      ],
      "source": [
        "heights_in"
      ]
    },
    {
      "cell_type": "markdown",
      "metadata": {
        "id": "P5BbAFY1NYI6"
      },
      "source": [
        "<h4 style = \"color : Sky blue\"> Example - 4</h4>\n",
        "\n",
        "#### A list of weights (in lbs) of the players is provided. Convert it to kg and calculate BMI"
      ]
    },
    {
      "cell_type": "code",
      "execution_count": 10,
      "metadata": {
        "id": "WB52h6LbNYI7"
      },
      "outputs": [],
      "source": [
        "weights_lb = [180, 215, 210, 210, 188, 176, 209, 200, 231, 180, 188, 180, 185, 160, 180, 185, 189, 185, 219, 230, 205, 230, 195, 180, 192, 225, 203, 195, 182, 188, 200, 180, 200, 200, 245, 240, 215, 185, 175, 199, 200, 215, 200, 205, 206, 186, 188, 220, 210, 195, 200, 200, 212, 224, 210, 205, 220, 195, 200, 260, 228, 270, 200, 210, 190, 220, 180, 205, 210, 220, 211, 200, 180, 190, 170, 230, 155, 185, 185, 200, 225, 225, 220, 160, 205, 235, 250, 210, 190, 160, 200, 205, 222, 195, 205, 220, 220, 170, 185, 195, 220, 230, 180, 220, 180, 180, 170, 210, 215, 200, 213, 180, 192, 235, 185, 235, 210, 222, 210, 230, 220, 180, 190, 200, 210, 194, 180, 190, 240, 200, 198, 200, 195, 210, 220, 190, 210, 225, 180, 185, 170, 185, 185, 180, 178, 175, 200, 204, 211, 190, 210, 190, 190, 185, 290, 175, 185, 200, 220, 170, 220, 190, 220, 205, 200, 250, 225, 215, 210, 215, 195, 200, 194, 220, 180, 180, 170, 195, 180, 170, 206, 205, 200, 225, 201, 225, 233, 180, 225, 180, 220, 180, 237, 215, 190, 235, 190, 180, 165, 195, 200, 190, 190, 185, 185, 205, 190, 205, 206, 220, 208, 170, 195, 210, 190, 211, 230, 170, 185, 185, 241, 225, 210, 175, 230, 200, 215, 198, 226, 278, 215, 230, 240, 184, 219, 170, 218, 190, 225, 220, 176, 190, 197, 204, 167, 180, 195, 220, 215, 185, 190, 205, 205, 200, 210, 215, 200, 205, 211, 190, 208, 200, 210, 232, 230, 210, 220, 210, 202, 212, 225, 170, 190, 200, 237, 220, 170, 193, 190, 150, 220, 200, 190, 185, 185, 200, 172, 220, 225, 190, 195, 219, 190, 197, 200, 195, 210, 177, 220, 235, 180, 195, 195, 190, 230, 190, 200, 190, 190, 200, 200, 184, 200, 180, 219, 187, 200, 220, 205, 190, 170, 160, 215, 175, 205, 200, 214, 200, 190, 180, 205, 220, 190, 215, 235, 191, 200, 181, 200, 210, 240, 185, 165, 190, 185, 175, 155, 210, 170, 175, 220, 210, 205, 200, 205, 195, 240, 150, 200, 215, 202, 200, 190, 205, 190, 160, 215, 185, 200, 190, 210, 185, 220, 190, 202, 205, 220, 175, 160, 190, 200, 229, 206, 220, 180, 195, 175, 188, 230, 190, 200, 190, 219, 235, 180, 180, 180, 200, 234, 185, 220, 223, 200, 210, 200, 210, 190, 177, 227, 180, 195, 199, 175, 185, 240, 210, 180, 194, 225, 180, 205, 193, 230, 230, 220, 200, 249, 190, 208, 245, 250, 160, 192, 220, 170, 197, 155, 190, 200, 220, 210, 228, 190, 160, 184, 180, 180, 200, 176, 160, 222, 211, 195, 200, 175, 206, 240, 185, 260, 185, 221, 205, 200, 170, 201, 205, 185, 205, 245, 220, 210, 220, 185, 175, 170, 180, 200, 210, 175, 220, 206, 180, 210, 195, 200, 200, 164, 180, 220, 195, 205, 170, 240, 210, 195, 200, 205, 192, 190, 170, 240, 200, 205, 175, 250, 220, 224, 210, 195, 180, 245, 175, 180, 215, 175, 180, 195, 230, 230, 205, 215, 195, 180, 205, 180, 190, 180, 190, 190, 220, 210, 255, 190, 230, 200, 205, 210, 225, 215, 220, 205, 200, 220, 197, 225, 187, 245, 185, 185, 175, 200, 180, 188, 225, 200, 210, 245, 213, 231, 165, 228, 210, 250, 191, 190, 200, 215, 254, 232, 180, 215, 220, 180, 200, 170, 195, 210, 200, 220, 165, 180, 200, 200, 170, 224, 220, 180, 198, 240, 239, 185, 210, 220, 200, 195, 220, 230, 170, 220, 230, 165, 205, 192, 210, 205, 200, 210, 185, 195, 202, 205, 195, 180, 200, 185, 240, 185, 220, 205, 205, 180, 201, 190, 208, 240, 180, 230, 195, 215, 190, 195, 215, 215, 220, 220, 230, 195, 190, 195, 209, 204, 170, 185, 205, 175, 210, 190, 180, 180, 160, 235, 200, 210, 180, 190, 197, 203, 205, 170, 200, 250, 200, 220, 200, 190, 170, 190, 220, 215, 206, 215, 185, 235, 188, 230, 195, 168, 190, 160, 200, 200, 189, 180, 190, 200, 220, 187, 240, 190, 180, 185, 210, 220, 219, 190, 193, 175, 180, 215, 210, 200, 190, 185, 220, 170, 195, 205, 195, 210, 190, 190, 180, 220, 190, 186, 185, 190, 180, 190, 170, 210, 240, 220, 180, 210, 210, 195, 160, 180, 205, 200, 185, 245, 190, 210, 200, 200, 222, 215, 240, 170, 220, 156, 190, 202, 221, 200, 190, 210, 190, 200, 165, 190, 185, 230, 208, 209, 175, 180, 200, 205, 200, 250, 210, 230, 244, 202, 240, 200, 215, 177, 210, 170, 215, 217, 198, 200, 220, 170, 200, 230, 231, 183, 192, 167, 190, 180, 180, 215, 160, 205, 223, 175, 170, 190, 240, 175, 230, 223, 196, 167, 195, 190, 250, 190, 190, 190, 170, 160, 150, 225, 220, 209, 210, 176, 260, 195, 190, 184, 180, 195, 195, 219, 225, 212, 202, 185, 200, 209, 200, 195, 228, 210, 190, 212, 190, 218, 220, 190, 235, 210, 200, 188, 210, 235, 188, 215, 216, 220, 180, 185, 200, 210, 220, 185, 231, 210, 195, 200, 205, 200, 190, 250, 185, 180, 170, 180, 208, 235, 215, 244, 220, 185, 230, 190, 200, 180, 190, 196, 180, 230, 224, 160, 178, 205, 185, 210, 180, 190, 200, 257, 190, 220, 165, 205, 200, 208, 185, 215, 170, 235, 210, 170, 180, 170, 190, 150, 230, 203, 260, 246, 186, 210, 198, 210, 215, 180, 200, 245, 200, 192, 192, 200, 192, 205, 190, 186, 170, 197, 219, 200, 220, 207, 225, 207, 212, 225, 170, 190, 210, 230, 210, 200, 238, 234, 222, 200, 190, 170, 220, 223, 210, 215, 196, 175, 175, 189, 205, 210, 180, 180, 197, 220, 228, 190, 204, 165, 216, 220, 208, 210, 215, 195, 200, 215, 229, 240, 207, 205, 208, 185, 190, 170, 208, 225, 190, 225, 185, 180, 165, 240, 220, 212, 163, 215, 175, 205, 210, 205, 208, 215, 180, 200, 230, 211, 230, 190, 220, 180, 205, 190, 180, 205, 190, 195]"
      ]
    },
    {
      "cell_type": "code",
      "execution_count": 11,
      "metadata": {
        "id": "OljNSDEiZlht"
      },
      "outputs": [],
      "source": [
        "weights_lb= np.array(weights_lb)"
      ]
    },
    {
      "cell_type": "code",
      "execution_count": 12,
      "metadata": {
        "id": "dpu-YfdhZwCT"
      },
      "outputs": [],
      "source": [
        "weights_kg = weights_lb * 0.453592"
      ]
    },
    {
      "cell_type": "code",
      "execution_count": 13,
      "metadata": {
        "colab": {
          "base_uri": "https://localhost:8080/"
        },
        "id": "b_qxn7VfNYJE",
        "outputId": "4545889b-c561-45e4-a4a9-cb341adb5ecc"
      },
      "outputs": [
        {
          "output_type": "execute_result",
          "data": {
            "text/plain": [
              "array([81.64656, 97.52228, 95.25432, ..., 92.98636, 86.18248, 88.45044])"
            ]
          },
          "metadata": {},
          "execution_count": 13
        }
      ],
      "source": [
        "# Converting weights in lbs to kg\n",
        "weights_kg"
      ]
    },
    {
      "cell_type": "code",
      "execution_count": 14,
      "metadata": {
        "id": "fDiuLndgZ9TR"
      },
      "outputs": [],
      "source": [
        "bmi = weights_kg / heights_in ** 2"
      ]
    },
    {
      "cell_type": "code",
      "execution_count": 15,
      "metadata": {
        "colab": {
          "base_uri": "https://localhost:8080/"
        },
        "id": "Hqst4kWvNYJM",
        "outputId": "13a36428-4405-4994-b8f5-cc68163806f0"
      },
      "outputs": [
        {
          "output_type": "execute_result",
          "data": {
            "text/plain": [
              "array([23.11037639, 27.60406069, 28.48080465, ..., 25.62295933,\n",
              "       23.74810865, 25.72686361])"
            ]
          },
          "metadata": {},
          "execution_count": 15
        }
      ],
      "source": [
        "# Calculate the BMI: bmi\n",
        "\n",
        "bmi\n"
      ]
    },
    {
      "cell_type": "markdown",
      "metadata": {
        "id": "1hgOQonCNYJX"
      },
      "source": [
        "<h4 style = \"color : Sky blue\"> Sub-Setting Arrays</h4>\n",
        "\n",
        "##### Fetch the first element from the bmi array"
      ]
    },
    {
      "cell_type": "code",
      "execution_count": 16,
      "metadata": {
        "colab": {
          "base_uri": "https://localhost:8080/"
        },
        "id": "bxC_4zPqNYJZ",
        "outputId": "c897011d-b8f8-4ebf-f09c-ea2564c664c6"
      },
      "outputs": [
        {
          "output_type": "stream",
          "name": "stdout",
          "text": [
            "23.11037638875862\n"
          ]
        }
      ],
      "source": [
        "print(bmi[0])"
      ]
    },
    {
      "cell_type": "markdown",
      "metadata": {
        "id": "IJw_fIF_NYJh"
      },
      "source": [
        "##### Fetch the last element from the bmi array"
      ]
    },
    {
      "cell_type": "code",
      "execution_count": 17,
      "metadata": {
        "colab": {
          "base_uri": "https://localhost:8080/"
        },
        "id": "pMjBir0PNYJj",
        "outputId": "2e7efc83-ff5c-4487-b610-e0927f018005"
      },
      "outputs": [
        {
          "output_type": "stream",
          "name": "stdout",
          "text": [
            "25.726863613607133\n"
          ]
        }
      ],
      "source": [
        "print(bmi[-1])"
      ]
    },
    {
      "cell_type": "markdown",
      "metadata": {
        "id": "JLHhFzmONYJr"
      },
      "source": [
        "#####  Fetch the first 5 elements from the bmi array"
      ]
    },
    {
      "cell_type": "code",
      "execution_count": 18,
      "metadata": {
        "colab": {
          "base_uri": "https://localhost:8080/"
        },
        "id": "qinJdYrONYJt",
        "outputId": "a1eb6ab9-3a65-49ba-a6c2-cb60d5d1607f"
      },
      "outputs": [
        {
          "output_type": "execute_result",
          "data": {
            "text/plain": [
              "array([23.11037639, 27.60406069, 28.48080465, 28.48080465, 24.80333518])"
            ]
          },
          "metadata": {},
          "execution_count": 18
        }
      ],
      "source": [
        "bmi[:5]"
      ]
    },
    {
      "cell_type": "markdown",
      "metadata": {
        "id": "AfBVk-mXNYJ5"
      },
      "source": [
        "##### Fetch the last 5 elements from the bmi array"
      ]
    },
    {
      "cell_type": "code",
      "execution_count": 19,
      "metadata": {
        "colab": {
          "base_uri": "https://localhost:8080/"
        },
        "id": "ZTUtXBuZNYJ7",
        "outputId": "69968a97-21ef-4829-ac61-ae4d14a24591"
      },
      "outputs": [
        {
          "output_type": "execute_result",
          "data": {
            "text/plain": [
              "array([25.06720044, 23.11037639, 25.62295933, 23.74810865, 25.72686361])"
            ]
          },
          "metadata": {},
          "execution_count": 19
        }
      ],
      "source": [
        "bmi[-5:]"
      ]
    },
    {
      "cell_type": "markdown",
      "metadata": {
        "id": "UwWgOMiLNYKE"
      },
      "source": [
        "<h4 style = \"color : Sky blue\"> Conditional Sub-Setting Arrays</h4>\n",
        "\n",
        "##### Count the number of pariticipants who are underweight i.e. bmi < 21\n"
      ]
    },
    {
      "cell_type": "code",
      "execution_count": 20,
      "metadata": {
        "colab": {
          "base_uri": "https://localhost:8080/"
        },
        "id": "JT-qmbkPNYKG",
        "outputId": "35c6df43-76f6-44f4-a93e-01ee53d6efde"
      },
      "outputs": [
        {
          "output_type": "execute_result",
          "data": {
            "text/plain": [
              "np.int64(11)"
            ]
          },
          "metadata": {},
          "execution_count": 20
        }
      ],
      "source": [
        "underweight = bmi < 21\n",
        "underweight.sum()"
      ]
    },
    {
      "cell_type": "code",
      "execution_count": 21,
      "metadata": {
        "colab": {
          "base_uri": "https://localhost:8080/"
        },
        "id": "w_eRWB_YNYKf",
        "outputId": "cc4234ea-a382-4007-b70d-777d2fea1770"
      },
      "outputs": [
        {
          "output_type": "stream",
          "name": "stdout",
          "text": [
            "11\n"
          ]
        }
      ],
      "source": [
        "print(underweight.sum())"
      ]
    },
    {
      "cell_type": "markdown",
      "metadata": {
        "id": "UoLIRApcNYKn"
      },
      "source": [
        "<h4 style = \"color : Sky blue\"> NumPy Functions</h4>"
      ]
    },
    {
      "cell_type": "markdown",
      "metadata": {
        "id": "2D3fJra3NYKo"
      },
      "source": [
        "##### Find the largest BMI value"
      ]
    },
    {
      "cell_type": "code",
      "execution_count": 22,
      "metadata": {
        "colab": {
          "base_uri": "https://localhost:8080/"
        },
        "id": "0RA476hZdM_l",
        "outputId": "5ecaf6b9-cc16-4e3b-88bc-233afbcfd65e"
      },
      "outputs": [
        {
          "output_type": "stream",
          "name": "stdout",
          "text": [
            "35.26194861031698\n"
          ]
        }
      ],
      "source": [
        "greater =0\n",
        "for i in bmi:\n",
        "    if i > greater:\n",
        "        greater = i\n",
        "print(greater)"
      ]
    },
    {
      "cell_type": "code",
      "execution_count": 23,
      "metadata": {
        "colab": {
          "base_uri": "https://localhost:8080/"
        },
        "id": "bbRRch9INYKq",
        "outputId": "2037f49f-17c9-46f4-8c4f-c0f7666a3dd3"
      },
      "outputs": [
        {
          "output_type": "stream",
          "name": "stdout",
          "text": [
            "35.26194861031698\n"
          ]
        }
      ],
      "source": [
        "print(bmi.max())"
      ]
    },
    {
      "cell_type": "markdown",
      "metadata": {
        "id": "BGQBQcs9NYK6"
      },
      "source": [
        "##### Find lowest BMI value"
      ]
    },
    {
      "cell_type": "code",
      "execution_count": 24,
      "metadata": {
        "colab": {
          "base_uri": "https://localhost:8080/"
        },
        "id": "ZHkzhfynNYK8",
        "outputId": "452935ca-d489-405e-a2de-ee7deb8e70c2"
      },
      "outputs": [
        {
          "output_type": "stream",
          "name": "stdout",
          "text": [
            "19.498447103560874\n"
          ]
        }
      ],
      "source": [
        "print(bmi.min())"
      ]
    },
    {
      "cell_type": "markdown",
      "metadata": {
        "id": "S_wKFbq0NYLG"
      },
      "source": [
        "##### Find average BMI value"
      ]
    },
    {
      "cell_type": "code",
      "execution_count": 25,
      "metadata": {
        "colab": {
          "base_uri": "https://localhost:8080/"
        },
        "id": "xC4IdjdHNYLJ",
        "outputId": "166a1614-6f45-4824-e1d1-09c59ff47ca7"
      },
      "outputs": [
        {
          "output_type": "stream",
          "name": "stdout",
          "text": [
            "26.05684565448554\n"
          ]
        }
      ],
      "source": [
        "print(bmi.mean())"
      ]
    },
    {
      "cell_type": "code",
      "execution_count": 26,
      "metadata": {
        "colab": {
          "base_uri": "https://localhost:8080/"
        },
        "id": "XnuvoXbVdhuT",
        "outputId": "cbc46b88-25b2-4e86-e269-050b2f57058c"
      },
      "outputs": [
        {
          "output_type": "execute_result",
          "data": {
            "text/plain": [
              "array([10, 11, 12, 13, 14, 15, 16, 17, 18, 19, 20, 21, 22, 23, 24, 25, 26,\n",
              "       27, 28, 29, 30, 31, 32, 33, 34, 35, 36, 37, 38, 39, 40, 41, 42, 43,\n",
              "       44, 45, 46, 47, 48, 49, 50])"
            ]
          },
          "metadata": {},
          "execution_count": 26
        }
      ],
      "source": [
        "num_arr = np.arange(10,51)\n",
        "num_arr"
      ]
    },
    {
      "cell_type": "code",
      "execution_count": 27,
      "metadata": {
        "id": "Sq6wB7R4ebF3"
      },
      "outputs": [],
      "source": [
        "even_no =[]\n",
        "for i in num_arr:\n",
        "  if i % 2 == 0:\n",
        "    even_no.append(i)\n",
        "even_no=np.array(even_no)"
      ]
    },
    {
      "cell_type": "code",
      "execution_count": 28,
      "metadata": {
        "colab": {
          "base_uri": "https://localhost:8080/"
        },
        "id": "uc5E15nZf4_t",
        "outputId": "e6fc03b7-9336-4b88-cbb5-1c8175d14810"
      },
      "outputs": [
        {
          "output_type": "execute_result",
          "data": {
            "text/plain": [
              "array([10, 12, 14, 16, 18, 20, 22, 24, 26, 28, 30, 32, 34, 36, 38, 40, 42,\n",
              "       44, 46, 48, 50])"
            ]
          },
          "metadata": {},
          "execution_count": 28
        }
      ],
      "source": [
        "even_no"
      ]
    },
    {
      "cell_type": "code",
      "execution_count": 29,
      "metadata": {
        "colab": {
          "base_uri": "https://localhost:8080/"
        },
        "id": "qYOh0vXPh6M7",
        "outputId": "3901e507-f64d-418a-c76a-3dbfcb4c4e68"
      },
      "outputs": [
        {
          "output_type": "stream",
          "name": "stdout",
          "text": [
            "[ 7  5  9 18 14 13 11 22 19 24  1  9 22 11 24 22 24 22  7 15 19 24  0  2\n",
            "  5]\n"
          ]
        }
      ],
      "source": [
        "randam_numbars=np.random.randint(0,25,size=25)\n",
        "print(randam_numbars)"
      ]
    },
    {
      "cell_type": "code",
      "execution_count": 30,
      "metadata": {
        "colab": {
          "base_uri": "https://localhost:8080/"
        },
        "id": "qAbhLWuniRRU",
        "outputId": "bfae4959-5370-4520-fa33-256b86b9e403"
      },
      "outputs": [
        {
          "output_type": "execute_result",
          "data": {
            "text/plain": [
              "array([[1, 2, 3],\n",
              "       [4, 5, 6]])"
            ]
          },
          "metadata": {},
          "execution_count": 30
        }
      ],
      "source": [
        "# prompt: Provide an expression that sets A to be a 2*3 numpy array (2 rows by 3 columns), containing any values you wish.\n",
        "\n",
        "import numpy as np\n",
        "A = np.array([[1, 2, 3], [4, 5, 6]])\n",
        "A"
      ]
    },
    {
      "cell_type": "markdown",
      "metadata": {
        "id": "trkksZ59qRU_"
      },
      "source": []
    },
    {
      "cell_type": "code",
      "execution_count": 31,
      "metadata": {
        "id": "CLuNG610pB2k"
      },
      "outputs": [],
      "source": [
        "def tp(A):\n",
        "  B=np.transpose(A)\n",
        "  print(B)"
      ]
    },
    {
      "cell_type": "code",
      "execution_count": 32,
      "metadata": {
        "colab": {
          "base_uri": "https://localhost:8080/"
        },
        "id": "SigxqVhwvLel",
        "outputId": "51400418-196c-485a-a0d9-c1d4c4660ea2"
      },
      "outputs": [
        {
          "output_type": "execute_result",
          "data": {
            "text/plain": [
              "array([[1, 4],\n",
              "       [2, 5],\n",
              "       [3, 6]])"
            ]
          },
          "metadata": {},
          "execution_count": 32
        }
      ],
      "source": [
        "B=np.transpose(A)\n",
        "B"
      ]
    },
    {
      "cell_type": "code",
      "execution_count": 33,
      "metadata": {
        "id": "2VQ1VSzKqODA"
      },
      "outputs": [],
      "source": [
        "m=np.array([1,2,3])"
      ]
    },
    {
      "cell_type": "code",
      "execution_count": 34,
      "metadata": {
        "colab": {
          "base_uri": "https://localhost:8080/"
        },
        "id": "fm7-VJbasfI0",
        "outputId": "3033a214-322c-4280-8d39-137da2668290"
      },
      "outputs": [
        {
          "output_type": "execute_result",
          "data": {
            "text/plain": [
              "(3,)"
            ]
          },
          "metadata": {},
          "execution_count": 34
        }
      ],
      "source": [
        "m.shape"
      ]
    },
    {
      "cell_type": "code",
      "execution_count": 35,
      "metadata": {
        "id": "wrICFONwsq-W"
      },
      "outputs": [],
      "source": [
        "m=np.array([[1,2,3]])"
      ]
    },
    {
      "cell_type": "code",
      "execution_count": 36,
      "metadata": {
        "colab": {
          "base_uri": "https://localhost:8080/"
        },
        "id": "6m5wzf9SsurE",
        "outputId": "8c92e8e3-6695-4990-ba3f-70da73131106"
      },
      "outputs": [
        {
          "output_type": "execute_result",
          "data": {
            "text/plain": [
              "(1, 3)"
            ]
          },
          "metadata": {},
          "execution_count": 36
        }
      ],
      "source": [
        "m.shape"
      ]
    },
    {
      "cell_type": "code",
      "execution_count": 37,
      "metadata": {
        "id": "R4ExqbHMsv-3"
      },
      "outputs": [],
      "source": [
        "n=np.array([1,2,3,4])"
      ]
    },
    {
      "cell_type": "code",
      "execution_count": 38,
      "metadata": {
        "id": "BzX_3Qmts-S1"
      },
      "outputs": [],
      "source": [
        "n=n*n"
      ]
    },
    {
      "cell_type": "code",
      "execution_count": 39,
      "metadata": {
        "colab": {
          "base_uri": "https://localhost:8080/"
        },
        "id": "eu5uRTVBtAtm",
        "outputId": "22da51bc-0b5b-4609-ddeb-29d9f44bee43"
      },
      "outputs": [
        {
          "output_type": "execute_result",
          "data": {
            "text/plain": [
              "array([ 1,  4,  9, 16])"
            ]
          },
          "metadata": {},
          "execution_count": 39
        }
      ],
      "source": [
        "n"
      ]
    },
    {
      "cell_type": "code",
      "execution_count": 40,
      "metadata": {
        "id": "HHOhEL03tBUm"
      },
      "outputs": [],
      "source": [
        "n = np.dot(n,n)"
      ]
    },
    {
      "cell_type": "code",
      "execution_count": 41,
      "metadata": {
        "colab": {
          "base_uri": "https://localhost:8080/"
        },
        "id": "JpVEyKWttPBn",
        "outputId": "28eaaf0f-72cc-4eca-f2ee-809ddf0d97c8"
      },
      "outputs": [
        {
          "output_type": "execute_result",
          "data": {
            "text/plain": [
              "np.int64(354)"
            ]
          },
          "metadata": {},
          "execution_count": 41
        }
      ],
      "source": [
        "n"
      ]
    },
    {
      "cell_type": "code",
      "execution_count": 42,
      "metadata": {
        "id": "vU5Ow0H3tSON"
      },
      "outputs": [],
      "source": [
        "f=np.array([1,2,3,4])"
      ]
    },
    {
      "cell_type": "code",
      "execution_count": 43,
      "metadata": {
        "id": "fEH1-3eguk_m"
      },
      "outputs": [],
      "source": [
        "f = np.dot(np.transpose(f), f)"
      ]
    },
    {
      "cell_type": "code",
      "execution_count": 44,
      "metadata": {
        "colab": {
          "base_uri": "https://localhost:8080/"
        },
        "id": "3Yhxk89Furbw",
        "outputId": "e4991188-6922-4e3a-bc7b-80ccee2b03e1"
      },
      "outputs": [
        {
          "output_type": "execute_result",
          "data": {
            "text/plain": [
              "np.int64(30)"
            ]
          },
          "metadata": {},
          "execution_count": 44
        }
      ],
      "source": [
        "f"
      ]
    },
    {
      "cell_type": "code",
      "execution_count": 45,
      "metadata": {
        "id": "ErvlRxBOusFx"
      },
      "outputs": [],
      "source": [
        "a=np.array([[1,2,3,4],[5,6,7,8]])\n",
        "b=np.array([[2,8,2,3],[1,2,4,1]])"
      ]
    },
    {
      "cell_type": "code",
      "execution_count": 46,
      "metadata": {
        "id": "Gzsqhcokwkhx"
      },
      "outputs": [],
      "source": [
        "d = np.dot(A, B)"
      ]
    },
    {
      "cell_type": "code",
      "execution_count": 47,
      "metadata": {
        "colab": {
          "base_uri": "https://localhost:8080/"
        },
        "id": "NTrUXI2twvbd",
        "outputId": "931d2a70-23d3-4ac2-ff10-a0995654d76e"
      },
      "outputs": [
        {
          "output_type": "execute_result",
          "data": {
            "text/plain": [
              "array([[14, 32],\n",
              "       [32, 77]])"
            ]
          },
          "metadata": {},
          "execution_count": 47
        }
      ],
      "source": [
        "d"
      ]
    },
    {
      "cell_type": "code",
      "execution_count": 48,
      "metadata": {
        "colab": {
          "base_uri": "https://localhost:8080/"
        },
        "id": "NLIr0uVMwwgb",
        "outputId": "33e791cf-c7a7-44d3-fa8e-65715e03f5a1"
      },
      "outputs": [
        {
          "output_type": "execute_result",
          "data": {
            "text/plain": [
              "[1, 2]"
            ]
          },
          "metadata": {},
          "execution_count": 48
        }
      ],
      "source": [
        "e = np.array([1, 2]).tolist()\n",
        "e"
      ]
    },
    {
      "cell_type": "code",
      "execution_count": 49,
      "metadata": {
        "id": "ejPEgc-dxjTB"
      },
      "outputs": [],
      "source": [
        "A = np.array([[5,7,10,14],[2,4,8,9]])"
      ]
    },
    {
      "cell_type": "code",
      "execution_count": 50,
      "metadata": {
        "colab": {
          "base_uri": "https://localhost:8080/"
        },
        "id": "kdZmuF7Qyiks",
        "outputId": "cec95ce5-af64-4030-e53f-26b7598f2368"
      },
      "outputs": [
        {
          "output_type": "execute_result",
          "data": {
            "text/plain": [
              "array([[ 7, 10]])"
            ]
          },
          "metadata": {},
          "execution_count": 50
        }
      ],
      "source": [
        "A[0:1,1:3]"
      ]
    },
    {
      "cell_type": "code",
      "execution_count": 51,
      "metadata": {
        "colab": {
          "base_uri": "https://localhost:8080/"
        },
        "id": "qqHLhT3kyrSX",
        "outputId": "2e094281-f20d-4a6d-8d6b-6f4f7fef73ff"
      },
      "outputs": [
        {
          "output_type": "execute_result",
          "data": {
            "text/plain": [
              "array([[ 7, 10, 14]])"
            ]
          },
          "metadata": {},
          "execution_count": 51
        }
      ],
      "source": [
        "A[0:1,1:20]"
      ]
    },
    {
      "cell_type": "code",
      "execution_count": 52,
      "metadata": {
        "colab": {
          "base_uri": "https://localhost:8080/"
        },
        "id": "QzjD_kRayyAz",
        "outputId": "181b0f8b-8e42-4d84-fa5d-c8e296edacb7"
      },
      "outputs": [
        {
          "output_type": "execute_result",
          "data": {
            "text/plain": [
              "array([[2, 4]])"
            ]
          },
          "metadata": {},
          "execution_count": 52
        }
      ],
      "source": [
        "A[1:,:2]"
      ]
    },
    {
      "cell_type": "code",
      "execution_count": 53,
      "metadata": {
        "colab": {
          "base_uri": "https://localhost:8080/"
        },
        "id": "nuUfvvhpy1q8",
        "outputId": "6a23a814-2bf1-4013-dd1c-cb14a6bf82d3"
      },
      "outputs": [
        {
          "output_type": "execute_result",
          "data": {
            "text/plain": [
              "array([4, 8])"
            ]
          },
          "metadata": {},
          "execution_count": 53
        }
      ],
      "source": [
        "A[1,1:3]"
      ]
    },
    {
      "cell_type": "code",
      "execution_count": 54,
      "metadata": {
        "colab": {
          "base_uri": "https://localhost:8080/"
        },
        "id": "nXE2PS9Ly5Li",
        "outputId": "09c1215e-792c-4f36-b05a-ba602a495d59"
      },
      "outputs": [
        {
          "output_type": "execute_result",
          "data": {
            "text/plain": [
              "array([[7],\n",
              "       [4]])"
            ]
          },
          "metadata": {},
          "execution_count": 54
        }
      ],
      "source": [
        "A[:, 1:2]"
      ]
    },
    {
      "cell_type": "code",
      "execution_count": 55,
      "metadata": {
        "colab": {
          "base_uri": "https://localhost:8080/"
        },
        "id": "HMa5Oh4ozAx2",
        "outputId": "cc3cd4bf-5baf-49c6-f26c-57944513ad50"
      },
      "outputs": [
        {
          "output_type": "execute_result",
          "data": {
            "text/plain": [
              "array([7, 4])"
            ]
          },
          "metadata": {},
          "execution_count": 55
        }
      ],
      "source": [
        "A[:, 1]"
      ]
    },
    {
      "cell_type": "code",
      "execution_count": 56,
      "metadata": {
        "id": "LRbCTncAzDxu"
      },
      "outputs": [],
      "source": [
        "def rv(value_list):\n",
        "  value_list = np.asarray(value_list).reshape(1,-1)\n",
        "  print(value_list.shape)\n",
        "  return value_list"
      ]
    },
    {
      "cell_type": "code",
      "execution_count": 57,
      "metadata": {
        "colab": {
          "base_uri": "https://localhost:8080/"
        },
        "id": "Q7b5iUCdfhDU",
        "outputId": "067ed53e-f994-437e-b125-28c7c26904fd"
      },
      "outputs": [
        {
          "output_type": "stream",
          "name": "stdout",
          "text": [
            "(1, 4)\n"
          ]
        },
        {
          "output_type": "execute_result",
          "data": {
            "text/plain": [
              "array([[1, 2, 3, 4]])"
            ]
          },
          "metadata": {},
          "execution_count": 57
        }
      ],
      "source": [
        "value_lis = [1,2,3,4]\n",
        "rv(value_list=value_lis)\n"
      ]
    },
    {
      "cell_type": "code",
      "execution_count": 58,
      "metadata": {
        "id": "xeoJmOtCf0SF"
      },
      "outputs": [],
      "source": [
        "def rv(value_list):\n",
        "  value_list = np.asarray(value_list).reshape(1,-1)\n",
        "  print(value_list.shape)\n",
        "  return value_list.T"
      ]
    },
    {
      "cell_type": "code",
      "execution_count": 59,
      "metadata": {
        "colab": {
          "base_uri": "https://localhost:8080/"
        },
        "id": "CTqfQ0VDgrnt",
        "outputId": "2561c846-0f4a-4f86-e2ff-3d1fd538302a"
      },
      "outputs": [
        {
          "output_type": "stream",
          "name": "stdout",
          "text": [
            "(1, 4)\n"
          ]
        },
        {
          "output_type": "execute_result",
          "data": {
            "text/plain": [
              "array([[1],\n",
              "       [2],\n",
              "       [3],\n",
              "       [4]])"
            ]
          },
          "metadata": {},
          "execution_count": 59
        }
      ],
      "source": [
        "value_lis = [1,2,3,4]\n",
        "rv(value_list=value_lis)"
      ]
    },
    {
      "cell_type": "code",
      "execution_count": 60,
      "metadata": {
        "id": "doif7nCcguzD"
      },
      "outputs": [],
      "source": [
        "def length(col_v):\n",
        "    return np.linalg.norm(col_v)"
      ]
    },
    {
      "cell_type": "code",
      "execution_count": 61,
      "metadata": {
        "colab": {
          "base_uri": "https://localhost:8080/"
        },
        "id": "KyKBHr2mlUL-",
        "outputId": "9246e0bf-cfa1-46b2-b337-1d8c29ad74cc"
      },
      "outputs": [
        {
          "output_type": "execute_result",
          "data": {
            "text/plain": [
              "np.float64(5.0)"
            ]
          },
          "metadata": {},
          "execution_count": 61
        }
      ],
      "source": [
        "col = np.array([[3],[4]])\n",
        "length(col_v= col)"
      ]
    },
    {
      "cell_type": "code",
      "execution_count": 62,
      "metadata": {
        "id": "RvaHpJiKlqw3"
      },
      "outputs": [],
      "source": [
        "def normalize(col_v):\n",
        "    return col_v / length(col_v)"
      ]
    },
    {
      "cell_type": "code",
      "execution_count": 63,
      "metadata": {
        "colab": {
          "base_uri": "https://localhost:8080/"
        },
        "id": "Mc4RmxXZmq25",
        "outputId": "1fdb9e48-b33d-4d7e-f840-a0068d7480cb"
      },
      "outputs": [
        {
          "output_type": "execute_result",
          "data": {
            "text/plain": [
              "array([[0.6],\n",
              "       [0.8]])"
            ]
          },
          "metadata": {},
          "execution_count": 63
        }
      ],
      "source": [
        "col = np.array([[3],[4]])\n",
        "unit = normalize(col_v= col)\n",
        "unit"
      ]
    },
    {
      "cell_type": "code",
      "execution_count": 64,
      "metadata": {
        "id": "-RmD5rdRm1lf"
      },
      "outputs": [],
      "source": [
        "def get_final_column(matrix):\n",
        "    return matrix[:, [-1]]\n"
      ]
    },
    {
      "cell_type": "code",
      "execution_count": 65,
      "metadata": {
        "colab": {
          "base_uri": "https://localhost:8080/"
        },
        "id": "_zthqILKnW2w",
        "outputId": "e318e4f2-808b-4728-f4cd-9671c9c93b58"
      },
      "outputs": [
        {
          "output_type": "stream",
          "name": "stdout",
          "text": [
            "[[3]\n",
            " [6]\n",
            " [9]]\n"
          ]
        }
      ],
      "source": [
        "A = np.array([[1, 2, 3],\n",
        "              [4, 5, 6],\n",
        "              [7, 8, 9]])\n",
        "\n",
        "final_column = get_final_column(A)\n",
        "print(final_column)\n"
      ]
    },
    {
      "cell_type": "code",
      "execution_count": 66,
      "metadata": {
        "id": "8a1xjkPtny3l"
      },
      "outputs": [],
      "source": [
        "def matrix_inverse(A):\n",
        "    return np.linalg.inv(A)"
      ]
    },
    {
      "cell_type": "code",
      "execution_count": 67,
      "metadata": {
        "colab": {
          "base_uri": "https://localhost:8080/"
        },
        "id": "qZ2dpJUznzmJ",
        "outputId": "0a3c82d6-396c-432b-858e-ff77a1c492b5"
      },
      "outputs": [
        {
          "output_type": "stream",
          "name": "stdout",
          "text": [
            "[[-2.   1. ]\n",
            " [ 1.5 -0.5]]\n",
            "[[1.0000000e+00 0.0000000e+00]\n",
            " [8.8817842e-16 1.0000000e+00]]\n"
          ]
        }
      ],
      "source": [
        "A = np.array([[1, 2], [3, 4]])\n",
        "inv_A = matrix_inverse(A)\n",
        "print(inv_A)\n",
        "print(np.dot(A, inv_A))"
      ]
    },
    {
      "cell_type": "code",
      "execution_count": 68,
      "metadata": {
        "colab": {
          "base_uri": "https://localhost:8080/"
        },
        "id": "OSfimNDIn1a8",
        "outputId": "c699dc00-9da7-461a-df98-1fcea52af17b"
      },
      "outputs": [
        {
          "output_type": "execute_result",
          "data": {
            "text/plain": [
              "True"
            ]
          },
          "metadata": {},
          "execution_count": 68
        }
      ],
      "source": [
        "np.allclose(np.dot(A, inv_A), np.eye(2))  # Returns True\n"
      ]
    },
    {
      "cell_type": "code",
      "execution_count": 69,
      "metadata": {
        "id": "_M1uJaNmp1LU"
      },
      "outputs": [],
      "source": [
        "data = np.array([[150, 130, 120],\n",
        "                 [5.8, 5.5, 5.3]])"
      ]
    },
    {
      "cell_type": "code",
      "execution_count": 70,
      "metadata": {
        "colab": {
          "base_uri": "https://localhost:8080/"
        },
        "id": "w9B92qWkV9hY",
        "outputId": "649bfe8b-20f5-4033-eb6e-394e876cf78f"
      },
      "outputs": [
        {
          "output_type": "execute_result",
          "data": {
            "text/plain": [
              "array([[150. , 130. , 120. ],\n",
              "       [  5.8,   5.5,   5.3]])"
            ]
          },
          "metadata": {},
          "execution_count": 70
        }
      ],
      "source": [
        "data"
      ]
    },
    {
      "cell_type": "code",
      "execution_count": 71,
      "metadata": {
        "colab": {
          "base_uri": "https://localhost:8080/"
        },
        "id": "XMoD3urYXkii",
        "outputId": "4a8a1a2d-b9c4-4173-dfbe-afb2092b2bd1"
      },
      "outputs": [
        {
          "output_type": "stream",
          "name": "stdout",
          "text": [
            "[[155.8 135.5 125.3]]\n"
          ]
        }
      ],
      "source": [
        "def transform(data):\n",
        "    return np.dot(np.array([[1, 1]]), data)\n",
        "\n",
        "result = transform(data)\n",
        "print(result)  # Output: [[155.8 135.5 125.3]]"
      ]
    },
    {
      "cell_type": "markdown",
      "metadata": {
        "id": "VYK4NdQWZkuE"
      },
      "source": [
        "Assume we are given an input x as a column vector and the parameters specifying a linear hypothesis. Let's compute a predicted value."
      ]
    },
    {
      "cell_type": "code",
      "execution_count": 72,
      "metadata": {
        "id": "38N7SaMaXmqu"
      },
      "outputs": [],
      "source": [
        "def lin_reg_predict(x, th, th0):\n",
        "    return np.array(np.dot(th.T, x) + th0)"
      ]
    },
    {
      "cell_type": "code",
      "execution_count": 73,
      "metadata": {
        "colab": {
          "base_uri": "https://localhost:8080/"
        },
        "id": "1AvX3aziZeTv",
        "outputId": "2f55cf2b-d6aa-48d2-b8c5-785d2ab6203f"
      },
      "outputs": [
        {
          "output_type": "stream",
          "name": "stdout",
          "text": [
            "[[5.5]]\n"
          ]
        }
      ],
      "source": [
        "x = np.array([[2], [3]])\n",
        "th = np.array([[0.5], [1]])\n",
        "th0 = 1.5\n",
        "\n",
        "y = lin_reg_predict(x, th, th0)\n",
        "print(y)"
      ]
    },
    {
      "cell_type": "markdown",
      "metadata": {
        "id": "vQ4J8K58bQZw"
      },
      "source": [
        "Now assume we are given n points in an array. Let's compute predictions for all of the points."
      ]
    },
    {
      "cell_type": "code",
      "execution_count": 79,
      "metadata": {
        "id": "3IDsrTFBZt2q"
      },
      "outputs": [],
      "source": [
        "def lin_reg_predict(X, th, th0):\n",
        "    return np.dot(th.T, X) + th0"
      ]
    },
    {
      "cell_type": "code",
      "execution_count": 75,
      "metadata": {
        "id": "xOOAomjPbUvw",
        "colab": {
          "base_uri": "https://localhost:8080/"
        },
        "outputId": "d7a8ee1d-38ef-487a-f1b7-9e74158469ae"
      },
      "outputs": [
        {
          "output_type": "stream",
          "name": "stdout",
          "text": [
            "[[6.5 8.  9.5]]\n"
          ]
        }
      ],
      "source": [
        "X = np.array([[1, 2, 3], [4, 5, 6]])  # Shape: (2 x 3)\n",
        "th = np.array([[0.5], [1]])          # Shape: (2 x 1)\n",
        "th0 = 2                              # Scalar\n",
        "\n",
        "y = lin_reg_predict(X, th, th0)\n",
        "print(y)"
      ]
    },
    {
      "cell_type": "markdown",
      "source": [
        "Linear Regression with Random Hypotheses"
      ],
      "metadata": {
        "id": "cSWSGtY7FT9z"
      }
    },
    {
      "cell_type": "code",
      "source": [
        "import numpy as np\n",
        "\n",
        "# Function to compute mean squared errors for multiple hypotheses\n",
        "def lin_reg_err(X, Y, thetas, th0s):\n",
        "    preds = thetas.T @ X + th0s  # predictions shape: (k, n)\n",
        "    errors = preds - Y\n",
        "    mse = np.mean(errors ** 2, axis=1)  # mean squared error for each hypothesis\n",
        "    return mse\n",
        "\n",
        "# Function to generate k random hypotheses and return the best one\n",
        "def random_regress(X, Y, k):\n",
        "    d, n = X.shape\n",
        "    thetas = 2 * np.random.rand(d, k) - 1\n",
        "    th0s = 2 * np.random.rand(1, k) - 1\n",
        "    errors = lin_reg_err(X, Y, thetas, th0s.T)\n",
        "    i = np.argmin(errors)  # index of minimum error\n",
        "    theta, th0 = thetas[:, i], th0s[:, i]\n",
        "    return (theta, th0), errors[i]\n",
        "\n",
        "# Simulate input data\n",
        "np.random.seed(42)\n",
        "d, n = 2, 100\n",
        "X = np.random.rand(d, n)\n",
        "true_theta = np.array([2.0, -3.5])\n",
        "true_th0 = 1.0\n",
        "Y = true_theta @ X + true_th0 + 0.1 * np.random.randn(n)\n",
        "Y = Y.reshape(1, -1)\n",
        "\n",
        "# Run the random regression function\n",
        "k = 1000\n",
        "(best_theta, best_th0), min_error = random_regress(X, Y, k)\n",
        "\n",
        "print(\"Best theta:\", best_theta)\n",
        "print(\"Best th0:\", best_th0)\n",
        "print(\"Minimum MSE error:\", min_error)\n"
      ],
      "metadata": {
        "colab": {
          "base_uri": "https://localhost:8080/"
        },
        "id": "pLUmUbiUEvyh",
        "outputId": "43db86d8-3245-4063-a55c-0059d7495202"
      },
      "execution_count": 83,
      "outputs": [
        {
          "output_type": "stream",
          "name": "stdout",
          "text": [
            "Best theta: [ 0.93638686 -0.84206168]\n",
            "Best th0: [0.23260097]\n",
            "Minimum MSE error: 0.6887658036976885\n"
          ]
        }
      ]
    }
  ],
  "metadata": {
    "colab": {
      "provenance": []
    },
    "kernelspec": {
      "display_name": "Python 3",
      "language": "python",
      "name": "python3"
    },
    "language_info": {
      "codemirror_mode": {
        "name": "ipython",
        "version": 3
      },
      "file_extension": ".py",
      "mimetype": "text/x-python",
      "name": "python",
      "nbconvert_exporter": "python",
      "pygments_lexer": "ipython3",
      "version": "3.7.4"
    }
  },
  "nbformat": 4,
  "nbformat_minor": 0
}